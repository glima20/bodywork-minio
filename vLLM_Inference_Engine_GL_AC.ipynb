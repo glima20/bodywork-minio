{
  "cells": [
    {
      "cell_type": "markdown",
      "metadata": {
        "id": "view-in-github",
        "colab_type": "text"
      },
      "source": [
        "<a href=\"https://colab.research.google.com/github/glima20/bodywork-minio/blob/main/vLLM_Inference_Engine_GL_AC.ipynb\" target=\"_parent\"><img src=\"https://colab.research.google.com/assets/colab-badge.svg\" alt=\"Open In Colab\"/></a>"
      ]
    },
    {
      "cell_type": "code",
      "execution_count": null,
      "metadata": {
        "colab": {
          "base_uri": "https://localhost:8080/"
        },
        "id": "_UUZ-4OB_Auw",
        "outputId": "3e6c9ddd-12f0-4f18-c8b1-4995ea36e405"
      },
      "outputs": [
        {
          "output_type": "stream",
          "name": "stdout",
          "text": [
            "Process is terminated.\n"
          ]
        }
      ],
      "source": [
        "%%bash\n",
        "#pip install vllm==0.2.0\n",
        "#pip install vllm==0.2.7\n",
        "pip install vllm==0.3.3\n",
        "# pip install -U xformers --index-url https://download.pytorch.org/whl/cu118\n",
        "# pip install farm-haystack==1.22.1\n",
        "# pip install vllm-haystack==0.1.1"
      ]
    },
    {
      "cell_type": "code",
      "execution_count": null,
      "metadata": {
        "id": "IEv5tLB9MA_5"
      },
      "outputs": [],
      "source": [
        "!nvidia-smi"
      ]
    },
    {
      "cell_type": "code",
      "execution_count": null,
      "metadata": {
        "colab": {
          "background_save": true
        },
        "id": "Tt5ih-XqTOU3"
      },
      "outputs": [],
      "source": [
        "#python -c \"import torch; print(torch.tensor(1).cuda().bfloat16().type())"
      ]
    },
    {
      "cell_type": "code",
      "execution_count": null,
      "metadata": {
        "colab": {
          "background_save": true
        },
        "id": "mZTFnEn3-QtI"
      },
      "outputs": [],
      "source": [
        "#!pip3 install -U xformers --index-url https://download.pytorch.org/whl/cu118"
      ]
    },
    {
      "cell_type": "code",
      "execution_count": null,
      "metadata": {
        "id": "acFn_4LOG8tk"
      },
      "outputs": [],
      "source": [
        "! python --version"
      ]
    },
    {
      "cell_type": "markdown",
      "metadata": {
        "id": "QupNp9f7EibZ"
      },
      "source": [
        "# To use vLLM for online serving, you can start an OpenAI API-compatible server via:\n",
        "\n"
      ]
    },
    {
      "cell_type": "code",
      "execution_count": null,
      "metadata": {
        "id": "BGyfSucLIUnb"
      },
      "outputs": [],
      "source": [
        "!curl ipv4.icanhazip.com"
      ]
    },
    {
      "cell_type": "code",
      "execution_count": null,
      "metadata": {
        "id": "p11ykVa-RzjQ"
      },
      "outputs": [],
      "source": [
        "# --dtype half\n",
        "# ! python -m vllm.entrypoints.openai.api_server --host 127.0.0.1 --port 8888 --model google/gemma-2b & npx localtunnel --port 8888\n",
        "\n",
        "! python -m vllm.entrypoints.openai.api_server --host 127.0.0.1 --port 8888 --model TheBloke/notus-7B-v1-AWQ  --quantization awq --max-model-len 2048 & npx localtunnel --port 8888"
      ]
    },
    {
      "cell_type": "code",
      "source": [],
      "metadata": {
        "id": "oX-BVyLJovfG"
      },
      "execution_count": null,
      "outputs": []
    },
    {
      "cell_type": "code",
      "execution_count": null,
      "metadata": {
        "id": "ux9imEmC-XEa"
      },
      "outputs": [],
      "source": [
        "#!curl 127.0.0.1:8888/v1/completions -H \"Content-Type: application/json\" -d '{\"model\": \"HuggingFaceH4/zephyr-7b-beta\",\"prompt\": \"San Francisco is a\",\"max_tokens\": 7,\"temperature\": 0}'"
      ]
    },
    {
      "cell_type": "code",
      "execution_count": null,
      "metadata": {
        "id": "H6qHLThZ-XKD"
      },
      "outputs": [],
      "source": [
        " curl 127.0.0.1:8888/v1/completions -H \"Content-Type: application/json\" -d '{\"model\": \"google/gemma-2b\",\"prompt\": \"San Francisco is a\",\"max_tokens\": 7,\"temperature\": 0}'"
      ]
    },
    {
      "cell_type": "code",
      "execution_count": null,
      "metadata": {
        "id": "9j99vDtL-XNe"
      },
      "outputs": [],
      "source": []
    },
    {
      "cell_type": "code",
      "execution_count": null,
      "metadata": {
        "id": "KP-Hj34L7iDd"
      },
      "outputs": [],
      "source": [
        "!curl 127.0.0.1:8888/v1/completions -H \"Content-Type: application/json\" -d '{\"model\": \"HuggingFaceH4/zephyr-7b-beta\",\"prompt\": \"San Francisco is a\",\"max_tokens\": 7,\"temperature\": 0}'"
      ]
    },
    {
      "cell_type": "code",
      "execution_count": null,
      "metadata": {
        "id": "aw5-Sw0WERas"
      },
      "outputs": [],
      "source": [
        "!curl https://tasty-times-shake.loca.lt/v1/completions -H \"Content-Type: application/json\" -d '{\"model\": \"EleutherAI/pythia-70m\",\"prompt\": \"San Francisco is a\",\"max_tokens\": 7,\"temperature\": 0}'"
      ]
    }
  ],
  "metadata": {
    "colab": {
      "cell_execution_strategy": "setup",
      "provenance": [],
      "gpuType": "T4",
      "include_colab_link": true
    },
    "kernelspec": {
      "display_name": "Python 3",
      "name": "python3"
    },
    "language_info": {
      "name": "python"
    },
    "accelerator": "GPU"
  },
  "nbformat": 4,
  "nbformat_minor": 0
}